{
 "cells": [
  {
   "cell_type": "code",
   "execution_count": 1,
   "metadata": {},
   "outputs": [
    {
     "name": "stderr",
     "output_type": "stream",
     "text": [
      "2021-11-09 05:50:33.478 INFO    numexpr.utils: NumExpr defaulting to 8 threads.\n",
      "2021-11-09 05:50:35.868 \n",
      "  \u001b[33m\u001b[1mWarning:\u001b[0m to view this Streamlit app on a browser, run it with the following\n",
      "  command:\n",
      "\n",
      "    streamlit run C:\\Users\\Samuel\\anaconda3\\lib\\site-packages\\ipykernel_launcher.py [ARGUMENTS]\n"
     ]
    }
   ],
   "source": [
    "import streamlit as st\n",
    "import numpy as np\n",
    "from PIL import Image\n",
    "import cv2\n",
    "\n",
    "file = st.file_uploader(\"Choose an excel file\", type=\"xlsx\")\n",
    "\n",
    "if st.button('go!'):\n",
    "        \n",
    "    all_sheet = pd.ExcelFile(file)   \n",
    "    sheets = all_sheet.sheet_names\n",
    "\n",
    "    for i in range(len(sheets)):\n",
    "        df = pd.read_excel(file, sheet_name = sheets[i])"
   ]
  }
 ],
 "metadata": {
  "interpreter": {
   "hash": "ee60405de99a25455e5b9a69ae653e73d758a5fb2b9c4923700ed5732cb6ef82"
  },
  "kernelspec": {
   "display_name": "Python 3.8.8 64-bit ('base': conda)",
   "language": "python",
   "name": "python3"
  },
  "language_info": {
   "codemirror_mode": {
    "name": "ipython",
    "version": 3
   },
   "file_extension": ".py",
   "mimetype": "text/x-python",
   "name": "python",
   "nbconvert_exporter": "python",
   "pygments_lexer": "ipython3",
   "version": "3.8.8"
  },
  "orig_nbformat": 4
 },
 "nbformat": 4,
 "nbformat_minor": 2
}
